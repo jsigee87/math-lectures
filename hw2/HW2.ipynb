{
 "cells": [
  {
   "cell_type": "markdown",
   "metadata": {},
   "source": [
    "# HW 2 \n",
    "## Problem No. 10"
   ]
  },
  {
   "cell_type": "code",
   "execution_count": null,
   "metadata": {},
   "outputs": [],
   "source": [
    "# Collect library imports at the top, using standardized \n",
    "# knicknames where appropriate (import <library> as <nickname>)\n",
    "import os\n",
    "import numpy as np\n",
    "import matplotlib.pyplot as plt\n",
    "import matplotlib.patches as patches\n",
    "%matplotlib inline"
   ]
  },
  {
   "cell_type": "code",
   "execution_count": null,
   "metadata": {},
   "outputs": [],
   "source": [
    "def plot_points(u, v, w, x):\n",
    "    lims = (-10, 10)\n",
    "    fig1 = plt.figure()\n",
    "    ax1 = fig1.add_subplot(111, aspect='equal')\n",
    "    _ = plt.ylim(lims)\n",
    "    _ = plt.xlim(lims)\n",
    "    plt.plot(*u, color='green', marker='o', markeredgecolor='black', markersize=10)\n",
    "    plt.plot(*v, color='cyan', marker='o', markeredgecolor='black', markersize=10)\n",
    "    plt.plot(*w, color='red', marker='o', markeredgecolor='black', markersize=10)\n",
    "    plt.plot(*x, color='yellow', marker='o', markeredgecolor='black', markersize=10)"
   ]
  },
  {
   "cell_type": "code",
   "execution_count": null,
   "metadata": {},
   "outputs": [],
   "source": [
    "# We want to see what our points look like before and after applying a linear transformation.\n",
    "# Here is the before.\n",
    "u = np.array([0,0])\n",
    "v = np.array([0,5])\n",
    "w = np.array([7,0])\n",
    "x = np.array([7,5])\n",
    "plot_points(u, v, w, x)"
   ]
  },
  {
   "cell_type": "code",
   "execution_count": null,
   "metadata": {},
   "outputs": [],
   "source": [
    "# Now we need a transformation\n",
    "A = np.array([\n",
    "      [0, 1],\n",
    "      [1, 0]\n",
    "    ])\n",
    "\n",
    "_u = np.matmul(A,u)\n",
    "_v = np.matmul(A,v)\n",
    "_w = np.matmul(A,w)\n",
    "_x = np.matmul(A,x)\n",
    "plot_points(_u, _v, _w, _x)"
   ]
  },
  {
   "cell_type": "code",
   "execution_count": null,
   "metadata": {},
   "outputs": [],
   "source": [
    "# Below is a combined function to pass in a 2x2 matrix A and get before and after plots\n",
    "def plot_before_and_after(A):\n",
    "    u = np.array([0,0])\n",
    "    v = np.array([0,5])\n",
    "    w = np.array([7,0])\n",
    "    x = np.array([7,5])\n",
    "    \n",
    "    # Before\n",
    "    plot_points(u, v, w, x)\n",
    "    \n",
    "    # After\n",
    "    plot_points(np.matmul(A,u), np.matmul(A,v), np.matmul(A,w), np.matmul(A,x))"
   ]
  },
  {
   "cell_type": "code",
   "execution_count": null,
   "metadata": {},
   "outputs": [],
   "source": [
    "# Run this function like below for several different matrices. A few are provided below.\n",
    "# Play with the numbers and see if you can deduce the rules and why they work the way they do.\n",
    "\n",
    "plot_before_and_after(A)"
   ]
  },
  {
   "cell_type": "code",
   "execution_count": null,
   "metadata": {},
   "outputs": [],
   "source": [
    "A = np.array(\n",
    "    [\n",
    "        [1, 0],\n",
    "        [0, 0]\n",
    "    ]\n",
    ")\n",
    "\n",
    "A = np.array(\n",
    "    [\n",
    "        [4, 0],\n",
    "        [0, 0]\n",
    "    ]\n",
    ")\n",
    "\n",
    "A = np.array(\n",
    "    [\n",
    "        [2, 0],\n",
    "        [0, 5]\n",
    "    ]\n",
    ")\n",
    "\n",
    "A = np.array(\n",
    "    [\n",
    "        [2, 3],\n",
    "        [0, 1]\n",
    "    ]\n",
    ")\n",
    "\n",
    "A = np.array(\n",
    "    [\n",
    "        [2, 0],\n",
    "        [3, 1]\n",
    "    ]\n",
    ")\n",
    "\n",
    "def rotation_matrix(theta):\n",
    "    return np.array([[np.cos(theta), np.sin(theta)], [-np.sin(theta), np.cos(theta)]])\n",
    "\n",
    "A = rotation_matrix(np.pi / 6)\n",
    "A = rotation_matrix(np.pi / 4)\n",
    "A = rotation_matrix(np.pi / 2)\n",
    "A = rotation_matrix(np.pi)\n",
    "\n",
    "# What happens if you modify the plot before and after code so that the after includes a \n",
    "# transformation by A AND the addition of a vector, like;\n",
    "#                    Au + b     (or np.matmul(A, u) + b)\n",
    "# This is called an \"affine\" transformation, and the b vector is often referred to as a \n",
    "# \"bias\" vector."
   ]
  }
 ],
 "metadata": {
  "kernelspec": {
   "display_name": "Python 3",
   "language": "python",
   "name": "python3"
  },
  "language_info": {
   "codemirror_mode": {
    "name": "ipython",
    "version": 3
   },
   "file_extension": ".py",
   "mimetype": "text/x-python",
   "name": "python",
   "nbconvert_exporter": "python",
   "pygments_lexer": "ipython3",
   "version": "3.6.7"
  }
 },
 "nbformat": 4,
 "nbformat_minor": 2
}
